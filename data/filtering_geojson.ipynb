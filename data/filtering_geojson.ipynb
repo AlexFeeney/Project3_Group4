{
 "cells": [
  {
   "cell_type": "code",
   "execution_count": 16,
   "metadata": {},
   "outputs": [],
   "source": [
    "# Import package\n",
    "import pandas as pd \n",
    "from pprint import pprint"
   ]
  },
  {
   "cell_type": "code",
   "execution_count": 42,
   "metadata": {},
   "outputs": [
    {
     "name": "stdout",
     "output_type": "stream",
     "text": [
      "            Country\n",
      "0         Australia\n",
      "1           Austria\n",
      "2           Belgium\n",
      "3            Canada\n",
      "4             Chile\n",
      "5          Colombia\n",
      "6        Costa Rica\n",
      "7           Czechia\n",
      "8           Denmark\n",
      "9           Estonia\n",
      "10          Finland\n",
      "11           France\n",
      "12          Germany\n",
      "13           Greece\n",
      "14          Hungary\n",
      "15          Iceland\n",
      "16          Ireland\n",
      "17            Italy\n",
      "18            Japan\n",
      "19            Korea\n",
      "20           Latvia\n",
      "21        Lithuania\n",
      "22       Luxembourg\n",
      "23           Mexico\n",
      "24      Netherlands\n",
      "25      New Zealand\n",
      "26           Norway\n",
      "27           Poland\n",
      "28         Portugal\n",
      "29  Slovak Republic\n",
      "30         Slovenia\n",
      "31            Spain\n",
      "32           Sweden\n",
      "33      Switzerland\n",
      "34          Türkiye\n",
      "35   United Kingdom\n",
      "36           Brazil\n"
     ]
    }
   ],
   "source": [
    "# Read excel file\n",
    "df = pd.read_excel('Country_list.xlsx')\n",
    "print(df)"
   ]
  },
  {
   "cell_type": "code",
   "execution_count": 43,
   "metadata": {},
   "outputs": [
    {
     "name": "stdout",
     "output_type": "stream",
     "text": [
      "['Australia', 'Austria', 'Belgium', 'Canada', 'Chile', 'Colombia', 'Costa Rica', 'Czechia', 'Denmark', 'Estonia', 'Finland', 'France', 'Germany', 'Greece', 'Hungary', 'Iceland', 'Ireland', 'Italy', 'Japan', 'Korea', 'Latvia', 'Lithuania', 'Luxembourg', 'Mexico', 'Netherlands', 'New Zealand', 'Norway', 'Poland', 'Portugal', 'Slovak Republic', 'Slovenia', 'Spain', 'Sweden', 'Switzerland', 'Türkiye', 'United Kingdom', 'Brazil']\n"
     ]
    }
   ],
   "source": [
    "# Output the list of countries\n",
    "country_list = df['Country'].tolist()\n",
    "print(country_list)"
   ]
  },
  {
   "cell_type": "code",
   "execution_count": 40,
   "metadata": {},
   "outputs": [
    {
     "name": "stdout",
     "output_type": "stream",
     "text": [
      "                type                                           features\n",
      "0  FeatureCollection  {'type': 'Feature', 'properties': {'ADMIN': 'A...\n",
      "1  FeatureCollection  {'type': 'Feature', 'properties': {'ADMIN': 'A...\n",
      "2  FeatureCollection  {'type': 'Feature', 'properties': {'ADMIN': 'A...\n",
      "3  FeatureCollection  {'type': 'Feature', 'properties': {'ADMIN': 'A...\n",
      "4  FeatureCollection  {'type': 'Feature', 'properties': {'ADMIN': 'A...\n"
     ]
    }
   ],
   "source": [
    "# Read in geojson file \n",
    "geo_data = pd.read_json('countries.geojson')\n",
    "pprint(geo_data.head())"
   ]
  },
  {
   "cell_type": "code",
   "execution_count": 41,
   "metadata": {},
   "outputs": [
    {
     "ename": "AttributeError",
     "evalue": "'str' object has no attribute 'features'",
     "output_type": "error",
     "traceback": [
      "\u001b[1;31m---------------------------------------------------------------------------\u001b[0m",
      "\u001b[1;31mAttributeError\u001b[0m                            Traceback (most recent call last)",
      "Cell \u001b[1;32mIn[41], line 6\u001b[0m\n\u001b[0;32m      4\u001b[0m \u001b[38;5;66;03m# Loop through the geo-data and extract data for the countries in the coutnry_list\u001b[39;00m\n\u001b[0;32m      5\u001b[0m \u001b[38;5;28;01mfor\u001b[39;00m geo \u001b[38;5;129;01min\u001b[39;00m geo_data:\n\u001b[1;32m----> 6\u001b[0m     \u001b[38;5;28;01mif\u001b[39;00m \u001b[43mgeo\u001b[49m\u001b[38;5;241;43m.\u001b[39;49m\u001b[43mfeatures\u001b[49m[\u001b[38;5;124m\"\u001b[39m\u001b[38;5;124mproperties\u001b[39m\u001b[38;5;124m\"\u001b[39m][\u001b[38;5;124m\"\u001b[39m\u001b[38;5;124mADMIN\u001b[39m\u001b[38;5;124m\"\u001b[39m] \u001b[38;5;129;01min\u001b[39;00m country_list:\n\u001b[0;32m      7\u001b[0m         filtered\u001b[38;5;241m.\u001b[39mappend(geo)\n",
      "\u001b[1;31mAttributeError\u001b[0m: 'str' object has no attribute 'features'"
     ]
    }
   ],
   "source": [
    "# Create an empty list to stored filtered countries' geojson\n",
    "filtered = []\n",
    "\n",
    "# Loop through the geo-data and extract data for the countries in the coutnry_list\n",
    "for geo in geo_data:\n",
    "    if geo.features[\"properties\"][\"ADMIN\"] in country_list:\n",
    "        filtered.append(geo)\n"
   ]
  }
 ],
 "metadata": {
  "kernelspec": {
   "display_name": "dev",
   "language": "python",
   "name": "python3"
  },
  "language_info": {
   "codemirror_mode": {
    "name": "ipython",
    "version": 3
   },
   "file_extension": ".py",
   "mimetype": "text/x-python",
   "name": "python",
   "nbconvert_exporter": "python",
   "pygments_lexer": "ipython3",
   "version": "3.10.13"
  }
 },
 "nbformat": 4,
 "nbformat_minor": 2
}
